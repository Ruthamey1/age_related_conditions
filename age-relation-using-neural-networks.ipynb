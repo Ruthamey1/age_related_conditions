{
 "cells": [
  {
   "cell_type": "code",
   "execution_count": 1,
   "id": "30fed009",
   "metadata": {
    "_cell_guid": "b1076dfc-b9ad-4769-8c92-a6c4dae69d19",
    "_uuid": "8f2839f25d086af736a60e9eeb907d3b93b6e0e5",
    "execution": {
     "iopub.execute_input": "2023-07-18T10:12:04.830200Z",
     "iopub.status.busy": "2023-07-18T10:12:04.829642Z",
     "iopub.status.idle": "2023-07-18T10:12:04.859406Z",
     "shell.execute_reply": "2023-07-18T10:12:04.857620Z"
    },
    "papermill": {
     "duration": 0.05747,
     "end_time": "2023-07-18T10:12:04.865537",
     "exception": false,
     "start_time": "2023-07-18T10:12:04.808067",
     "status": "completed"
    },
    "tags": []
   },
   "outputs": [
    {
     "name": "stdout",
     "output_type": "stream",
     "text": [
      "/kaggle/input/icr-identify-age-related-conditions/sample_submission.csv\n",
      "/kaggle/input/icr-identify-age-related-conditions/greeks.csv\n",
      "/kaggle/input/icr-identify-age-related-conditions/train.csv\n",
      "/kaggle/input/icr-identify-age-related-conditions/test.csv\n"
     ]
    }
   ],
   "source": [
    "# This Python 3 environment comes with many helpful analytics libraries installed\n",
    "# It is defined by the kaggle/python Docker image: https://github.com/kaggle/docker-python\n",
    "# For example, here's several helpful packages to load\n",
    "\n",
    "import numpy as np # linear algebra\n",
    "import pandas as pd # data processing, CSV file I/O (e.g. pd.read_csv)\n",
    "\n",
    "# Input data files are available in the read-only \"../input/\" directory\n",
    "# For example, running this (by clicking run or pressing Shift+Enter) will list all files under the input directory\n",
    "\n",
    "import os\n",
    "for dirname, _, filenames in os.walk('/kaggle/input'):\n",
    "    for filename in filenames:\n",
    "        print(os.path.join(dirname, filename))\n",
    "\n",
    "# You can write up to 20GB to the current directory (/kaggle/working/) that gets preserved as output when you create a version using \"Save & Run All\" \n",
    "# You can also write temporary files to /kaggle/temp/, but they won't be saved outside of the current session"
   ]
  },
  {
   "cell_type": "code",
   "execution_count": 2,
   "id": "5fb5dcd9",
   "metadata": {
    "execution": {
     "iopub.execute_input": "2023-07-18T10:12:04.899876Z",
     "iopub.status.busy": "2023-07-18T10:12:04.898686Z",
     "iopub.status.idle": "2023-07-18T10:12:04.969366Z",
     "shell.execute_reply": "2023-07-18T10:12:04.966568Z"
    },
    "papermill": {
     "duration": 0.092292,
     "end_time": "2023-07-18T10:12:04.973394",
     "exception": false,
     "start_time": "2023-07-18T10:12:04.881102",
     "status": "completed"
    },
    "tags": []
   },
   "outputs": [],
   "source": [
    "import warnings\n",
    "warnings.filterwarnings('ignore')\n",
    "\n",
    "train = pd.read_csv('/kaggle/input/icr-identify-age-related-conditions/train.csv')\n",
    "test = pd.read_csv('/kaggle/input/icr-identify-age-related-conditions/test.csv')\n",
    "greeks = pd.read_csv('/kaggle/input/icr-identify-age-related-conditions/greeks.csv')"
   ]
  },
  {
   "cell_type": "code",
   "execution_count": 3,
   "id": "ec1f9df7",
   "metadata": {
    "execution": {
     "iopub.execute_input": "2023-07-18T10:12:05.007717Z",
     "iopub.status.busy": "2023-07-18T10:12:05.006924Z",
     "iopub.status.idle": "2023-07-18T10:12:05.078220Z",
     "shell.execute_reply": "2023-07-18T10:12:05.076686Z"
    },
    "papermill": {
     "duration": 0.094163,
     "end_time": "2023-07-18T10:12:05.083205",
     "exception": false,
     "start_time": "2023-07-18T10:12:04.989042",
     "status": "completed"
    },
    "tags": []
   },
   "outputs": [
    {
     "data": {
      "text/html": [
       "<div>\n",
       "<style scoped>\n",
       "    .dataframe tbody tr th:only-of-type {\n",
       "        vertical-align: middle;\n",
       "    }\n",
       "\n",
       "    .dataframe tbody tr th {\n",
       "        vertical-align: top;\n",
       "    }\n",
       "\n",
       "    .dataframe thead th {\n",
       "        text-align: right;\n",
       "    }\n",
       "</style>\n",
       "<table border=\"1\" class=\"dataframe\">\n",
       "  <thead>\n",
       "    <tr style=\"text-align: right;\">\n",
       "      <th></th>\n",
       "      <th>Id</th>\n",
       "      <th>AB</th>\n",
       "      <th>AF</th>\n",
       "      <th>AH</th>\n",
       "      <th>AM</th>\n",
       "      <th>AR</th>\n",
       "      <th>AX</th>\n",
       "      <th>AY</th>\n",
       "      <th>AZ</th>\n",
       "      <th>BC</th>\n",
       "      <th>...</th>\n",
       "      <th>FL</th>\n",
       "      <th>FR</th>\n",
       "      <th>FS</th>\n",
       "      <th>GB</th>\n",
       "      <th>GE</th>\n",
       "      <th>GF</th>\n",
       "      <th>GH</th>\n",
       "      <th>GI</th>\n",
       "      <th>GL</th>\n",
       "      <th>Class</th>\n",
       "    </tr>\n",
       "  </thead>\n",
       "  <tbody>\n",
       "    <tr>\n",
       "      <th>0</th>\n",
       "      <td>000ff2bfdfe9</td>\n",
       "      <td>0.209377</td>\n",
       "      <td>3109.03329</td>\n",
       "      <td>85.200147</td>\n",
       "      <td>22.394407</td>\n",
       "      <td>8.138688</td>\n",
       "      <td>0.699861</td>\n",
       "      <td>0.025578</td>\n",
       "      <td>9.812214</td>\n",
       "      <td>5.555634</td>\n",
       "      <td>...</td>\n",
       "      <td>7.298162</td>\n",
       "      <td>1.73855</td>\n",
       "      <td>0.094822</td>\n",
       "      <td>11.339138</td>\n",
       "      <td>72.611063</td>\n",
       "      <td>2003.810319</td>\n",
       "      <td>22.136229</td>\n",
       "      <td>69.834944</td>\n",
       "      <td>0.120343</td>\n",
       "      <td>1</td>\n",
       "    </tr>\n",
       "    <tr>\n",
       "      <th>1</th>\n",
       "      <td>007255e47698</td>\n",
       "      <td>0.145282</td>\n",
       "      <td>978.76416</td>\n",
       "      <td>85.200147</td>\n",
       "      <td>36.968889</td>\n",
       "      <td>8.138688</td>\n",
       "      <td>3.632190</td>\n",
       "      <td>0.025578</td>\n",
       "      <td>13.517790</td>\n",
       "      <td>1.229900</td>\n",
       "      <td>...</td>\n",
       "      <td>0.173229</td>\n",
       "      <td>0.49706</td>\n",
       "      <td>0.568932</td>\n",
       "      <td>9.292698</td>\n",
       "      <td>72.611063</td>\n",
       "      <td>27981.562750</td>\n",
       "      <td>29.135430</td>\n",
       "      <td>32.131996</td>\n",
       "      <td>21.978000</td>\n",
       "      <td>0</td>\n",
       "    </tr>\n",
       "    <tr>\n",
       "      <th>2</th>\n",
       "      <td>013f2bd269f5</td>\n",
       "      <td>0.470030</td>\n",
       "      <td>2635.10654</td>\n",
       "      <td>85.200147</td>\n",
       "      <td>32.360553</td>\n",
       "      <td>8.138688</td>\n",
       "      <td>6.732840</td>\n",
       "      <td>0.025578</td>\n",
       "      <td>12.824570</td>\n",
       "      <td>1.229900</td>\n",
       "      <td>...</td>\n",
       "      <td>7.709560</td>\n",
       "      <td>0.97556</td>\n",
       "      <td>1.198821</td>\n",
       "      <td>37.077772</td>\n",
       "      <td>88.609437</td>\n",
       "      <td>13676.957810</td>\n",
       "      <td>28.022851</td>\n",
       "      <td>35.192676</td>\n",
       "      <td>0.196941</td>\n",
       "      <td>0</td>\n",
       "    </tr>\n",
       "    <tr>\n",
       "      <th>3</th>\n",
       "      <td>043ac50845d5</td>\n",
       "      <td>0.252107</td>\n",
       "      <td>3819.65177</td>\n",
       "      <td>120.201618</td>\n",
       "      <td>77.112203</td>\n",
       "      <td>8.138688</td>\n",
       "      <td>3.685344</td>\n",
       "      <td>0.025578</td>\n",
       "      <td>11.053708</td>\n",
       "      <td>1.229900</td>\n",
       "      <td>...</td>\n",
       "      <td>6.122162</td>\n",
       "      <td>0.49706</td>\n",
       "      <td>0.284466</td>\n",
       "      <td>18.529584</td>\n",
       "      <td>82.416803</td>\n",
       "      <td>2094.262452</td>\n",
       "      <td>39.948656</td>\n",
       "      <td>90.493248</td>\n",
       "      <td>0.155829</td>\n",
       "      <td>0</td>\n",
       "    </tr>\n",
       "    <tr>\n",
       "      <th>4</th>\n",
       "      <td>044fb8a146ec</td>\n",
       "      <td>0.380297</td>\n",
       "      <td>3733.04844</td>\n",
       "      <td>85.200147</td>\n",
       "      <td>14.103738</td>\n",
       "      <td>8.138688</td>\n",
       "      <td>3.942255</td>\n",
       "      <td>0.054810</td>\n",
       "      <td>3.396778</td>\n",
       "      <td>102.151980</td>\n",
       "      <td>...</td>\n",
       "      <td>8.153058</td>\n",
       "      <td>48.50134</td>\n",
       "      <td>0.121914</td>\n",
       "      <td>16.408728</td>\n",
       "      <td>146.109943</td>\n",
       "      <td>8524.370502</td>\n",
       "      <td>45.381316</td>\n",
       "      <td>36.262628</td>\n",
       "      <td>0.096614</td>\n",
       "      <td>1</td>\n",
       "    </tr>\n",
       "  </tbody>\n",
       "</table>\n",
       "<p>5 rows × 58 columns</p>\n",
       "</div>"
      ],
      "text/plain": [
       "             Id        AB          AF          AH         AM        AR  \\\n",
       "0  000ff2bfdfe9  0.209377  3109.03329   85.200147  22.394407  8.138688   \n",
       "1  007255e47698  0.145282   978.76416   85.200147  36.968889  8.138688   \n",
       "2  013f2bd269f5  0.470030  2635.10654   85.200147  32.360553  8.138688   \n",
       "3  043ac50845d5  0.252107  3819.65177  120.201618  77.112203  8.138688   \n",
       "4  044fb8a146ec  0.380297  3733.04844   85.200147  14.103738  8.138688   \n",
       "\n",
       "         AX        AY         AZ          BC  ...        FL        FR  \\\n",
       "0  0.699861  0.025578   9.812214    5.555634  ...  7.298162   1.73855   \n",
       "1  3.632190  0.025578  13.517790    1.229900  ...  0.173229   0.49706   \n",
       "2  6.732840  0.025578  12.824570    1.229900  ...  7.709560   0.97556   \n",
       "3  3.685344  0.025578  11.053708    1.229900  ...  6.122162   0.49706   \n",
       "4  3.942255  0.054810   3.396778  102.151980  ...  8.153058  48.50134   \n",
       "\n",
       "         FS         GB          GE            GF         GH         GI  \\\n",
       "0  0.094822  11.339138   72.611063   2003.810319  22.136229  69.834944   \n",
       "1  0.568932   9.292698   72.611063  27981.562750  29.135430  32.131996   \n",
       "2  1.198821  37.077772   88.609437  13676.957810  28.022851  35.192676   \n",
       "3  0.284466  18.529584   82.416803   2094.262452  39.948656  90.493248   \n",
       "4  0.121914  16.408728  146.109943   8524.370502  45.381316  36.262628   \n",
       "\n",
       "          GL  Class  \n",
       "0   0.120343      1  \n",
       "1  21.978000      0  \n",
       "2   0.196941      0  \n",
       "3   0.155829      0  \n",
       "4   0.096614      1  \n",
       "\n",
       "[5 rows x 58 columns]"
      ]
     },
     "execution_count": 3,
     "metadata": {},
     "output_type": "execute_result"
    }
   ],
   "source": [
    "train.head()"
   ]
  },
  {
   "cell_type": "code",
   "execution_count": 4,
   "id": "700089f1",
   "metadata": {
    "execution": {
     "iopub.execute_input": "2023-07-18T10:12:05.109415Z",
     "iopub.status.busy": "2023-07-18T10:12:05.108678Z",
     "iopub.status.idle": "2023-07-18T10:12:05.118095Z",
     "shell.execute_reply": "2023-07-18T10:12:05.116907Z"
    },
    "papermill": {
     "duration": 0.025266,
     "end_time": "2023-07-18T10:12:05.120591",
     "exception": false,
     "start_time": "2023-07-18T10:12:05.095325",
     "status": "completed"
    },
    "tags": []
   },
   "outputs": [
    {
     "data": {
      "text/plain": [
       "0      B\n",
       "1      A\n",
       "2      B\n",
       "3      B\n",
       "4      B\n",
       "      ..\n",
       "612    A\n",
       "613    B\n",
       "614    A\n",
       "615    B\n",
       "616    A\n",
       "Name: EJ, Length: 617, dtype: object"
      ]
     },
     "execution_count": 4,
     "metadata": {},
     "output_type": "execute_result"
    }
   ],
   "source": [
    "train['EJ']"
   ]
  },
  {
   "cell_type": "code",
   "execution_count": 5,
   "id": "c1c5cec2",
   "metadata": {
    "execution": {
     "iopub.execute_input": "2023-07-18T10:12:05.145553Z",
     "iopub.status.busy": "2023-07-18T10:12:05.144729Z",
     "iopub.status.idle": "2023-07-18T10:12:05.153157Z",
     "shell.execute_reply": "2023-07-18T10:12:05.152206Z"
    },
    "papermill": {
     "duration": 0.02425,
     "end_time": "2023-07-18T10:12:05.155921",
     "exception": false,
     "start_time": "2023-07-18T10:12:05.131671",
     "status": "completed"
    },
    "tags": []
   },
   "outputs": [],
   "source": [
    "train['EJ'] = train['EJ'].replace({'A': 0, 'B': 1})\n",
    "test['EJ'] = test['EJ'].replace({'A': 0, 'B': 1})"
   ]
  },
  {
   "cell_type": "code",
   "execution_count": 6,
   "id": "4ecab55d",
   "metadata": {
    "execution": {
     "iopub.execute_input": "2023-07-18T10:12:05.182650Z",
     "iopub.status.busy": "2023-07-18T10:12:05.181854Z",
     "iopub.status.idle": "2023-07-18T10:12:05.218585Z",
     "shell.execute_reply": "2023-07-18T10:12:05.217013Z"
    },
    "papermill": {
     "duration": 0.05348,
     "end_time": "2023-07-18T10:12:05.221868",
     "exception": false,
     "start_time": "2023-07-18T10:12:05.168388",
     "status": "completed"
    },
    "tags": []
   },
   "outputs": [
    {
     "name": "stdout",
     "output_type": "stream",
     "text": [
      "<class 'pandas.core.frame.DataFrame'>\n",
      "RangeIndex: 617 entries, 0 to 616\n",
      "Data columns (total 58 columns):\n",
      " #   Column  Non-Null Count  Dtype  \n",
      "---  ------  --------------  -----  \n",
      " 0   Id      617 non-null    object \n",
      " 1   AB      617 non-null    float64\n",
      " 2   AF      617 non-null    float64\n",
      " 3   AH      617 non-null    float64\n",
      " 4   AM      617 non-null    float64\n",
      " 5   AR      617 non-null    float64\n",
      " 6   AX      617 non-null    float64\n",
      " 7   AY      617 non-null    float64\n",
      " 8   AZ      617 non-null    float64\n",
      " 9   BC      617 non-null    float64\n",
      " 10  BD      617 non-null    float64\n",
      " 11  BN      617 non-null    float64\n",
      " 12  BP      617 non-null    float64\n",
      " 13  BQ      557 non-null    float64\n",
      " 14  BR      617 non-null    float64\n",
      " 15  BZ      617 non-null    float64\n",
      " 16  CB      615 non-null    float64\n",
      " 17  CC      614 non-null    float64\n",
      " 18  CD      617 non-null    float64\n",
      " 19  CF      617 non-null    float64\n",
      " 20  CH      617 non-null    float64\n",
      " 21  CL      617 non-null    float64\n",
      " 22  CR      617 non-null    float64\n",
      " 23  CS      617 non-null    float64\n",
      " 24  CU      617 non-null    float64\n",
      " 25  CW      617 non-null    float64\n",
      " 26  DA      617 non-null    float64\n",
      " 27  DE      617 non-null    float64\n",
      " 28  DF      617 non-null    float64\n",
      " 29  DH      617 non-null    float64\n",
      " 30  DI      617 non-null    float64\n",
      " 31  DL      617 non-null    float64\n",
      " 32  DN      617 non-null    float64\n",
      " 33  DU      616 non-null    float64\n",
      " 34  DV      617 non-null    float64\n",
      " 35  DY      617 non-null    float64\n",
      " 36  EB      617 non-null    float64\n",
      " 37  EE      617 non-null    float64\n",
      " 38  EG      617 non-null    float64\n",
      " 39  EH      617 non-null    float64\n",
      " 40  EJ      617 non-null    int64  \n",
      " 41  EL      557 non-null    float64\n",
      " 42  EP      617 non-null    float64\n",
      " 43  EU      617 non-null    float64\n",
      " 44  FC      616 non-null    float64\n",
      " 45  FD      617 non-null    float64\n",
      " 46  FE      617 non-null    float64\n",
      " 47  FI      617 non-null    float64\n",
      " 48  FL      616 non-null    float64\n",
      " 49  FR      617 non-null    float64\n",
      " 50  FS      615 non-null    float64\n",
      " 51  GB      617 non-null    float64\n",
      " 52  GE      617 non-null    float64\n",
      " 53  GF      617 non-null    float64\n",
      " 54  GH      617 non-null    float64\n",
      " 55  GI      617 non-null    float64\n",
      " 56  GL      616 non-null    float64\n",
      " 57  Class   617 non-null    int64  \n",
      "dtypes: float64(55), int64(2), object(1)\n",
      "memory usage: 279.7+ KB\n"
     ]
    }
   ],
   "source": [
    "train.info()"
   ]
  },
  {
   "cell_type": "code",
   "execution_count": 7,
   "id": "bf188ab7",
   "metadata": {
    "execution": {
     "iopub.execute_input": "2023-07-18T10:12:05.250157Z",
     "iopub.status.busy": "2023-07-18T10:12:05.249292Z",
     "iopub.status.idle": "2023-07-18T10:12:05.256800Z",
     "shell.execute_reply": "2023-07-18T10:12:05.255782Z"
    },
    "papermill": {
     "duration": 0.024655,
     "end_time": "2023-07-18T10:12:05.259225",
     "exception": false,
     "start_time": "2023-07-18T10:12:05.234570",
     "status": "completed"
    },
    "tags": []
   },
   "outputs": [
    {
     "data": {
      "text/plain": [
       "(617, 58)"
      ]
     },
     "execution_count": 7,
     "metadata": {},
     "output_type": "execute_result"
    }
   ],
   "source": [
    "train.shape"
   ]
  },
  {
   "cell_type": "code",
   "execution_count": 8,
   "id": "6c81a261",
   "metadata": {
    "execution": {
     "iopub.execute_input": "2023-07-18T10:12:05.285788Z",
     "iopub.status.busy": "2023-07-18T10:12:05.284921Z",
     "iopub.status.idle": "2023-07-18T10:12:05.292346Z",
     "shell.execute_reply": "2023-07-18T10:12:05.291249Z"
    },
    "papermill": {
     "duration": 0.023149,
     "end_time": "2023-07-18T10:12:05.294774",
     "exception": false,
     "start_time": "2023-07-18T10:12:05.271625",
     "status": "completed"
    },
    "tags": []
   },
   "outputs": [
    {
     "data": {
      "text/plain": [
       "(5, 57)"
      ]
     },
     "execution_count": 8,
     "metadata": {},
     "output_type": "execute_result"
    }
   ],
   "source": [
    "test.shape"
   ]
  },
  {
   "cell_type": "code",
   "execution_count": 9,
   "id": "3abbaeb2",
   "metadata": {
    "execution": {
     "iopub.execute_input": "2023-07-18T10:12:05.321123Z",
     "iopub.status.busy": "2023-07-18T10:12:05.320271Z",
     "iopub.status.idle": "2023-07-18T10:12:05.348606Z",
     "shell.execute_reply": "2023-07-18T10:12:05.347352Z"
    },
    "papermill": {
     "duration": 0.045868,
     "end_time": "2023-07-18T10:12:05.352796",
     "exception": false,
     "start_time": "2023-07-18T10:12:05.306928",
     "status": "completed"
    },
    "tags": []
   },
   "outputs": [],
   "source": [
    "train = train.fillna(train.mean())"
   ]
  },
  {
   "cell_type": "code",
   "execution_count": 10,
   "id": "38167826",
   "metadata": {
    "execution": {
     "iopub.execute_input": "2023-07-18T10:12:05.381833Z",
     "iopub.status.busy": "2023-07-18T10:12:05.380891Z",
     "iopub.status.idle": "2023-07-18T10:12:05.393834Z",
     "shell.execute_reply": "2023-07-18T10:12:05.392582Z"
    },
    "papermill": {
     "duration": 0.031368,
     "end_time": "2023-07-18T10:12:05.397685",
     "exception": false,
     "start_time": "2023-07-18T10:12:05.366317",
     "status": "completed"
    },
    "tags": []
   },
   "outputs": [],
   "source": [
    "X = np.array(train.drop(['Id', 'Class'], axis=1))\n",
    "y = np.array(train['Class'])\n",
    "raw = test.copy()\n",
    "test = np.array(test.drop(['Id'], axis=1))"
   ]
  },
  {
   "cell_type": "code",
   "execution_count": 11,
   "id": "2923e2dc",
   "metadata": {
    "execution": {
     "iopub.execute_input": "2023-07-18T10:12:05.426274Z",
     "iopub.status.busy": "2023-07-18T10:12:05.425351Z",
     "iopub.status.idle": "2023-07-18T10:12:07.394157Z",
     "shell.execute_reply": "2023-07-18T10:12:07.392451Z"
    },
    "papermill": {
     "duration": 1.986978,
     "end_time": "2023-07-18T10:12:07.397163",
     "exception": false,
     "start_time": "2023-07-18T10:12:05.410185",
     "status": "completed"
    },
    "tags": []
   },
   "outputs": [],
   "source": [
    "from sklearn.model_selection import train_test_split\n",
    "\n",
    "X_train, X_val, y_train, y_val = train_test_split(X, y, test_size=0.2)"
   ]
  },
  {
   "cell_type": "code",
   "execution_count": 12,
   "id": "feace66a",
   "metadata": {
    "execution": {
     "iopub.execute_input": "2023-07-18T10:12:07.426694Z",
     "iopub.status.busy": "2023-07-18T10:12:07.425801Z",
     "iopub.status.idle": "2023-07-18T10:12:18.899398Z",
     "shell.execute_reply": "2023-07-18T10:12:18.897899Z"
    },
    "papermill": {
     "duration": 11.493115,
     "end_time": "2023-07-18T10:12:18.902862",
     "exception": false,
     "start_time": "2023-07-18T10:12:07.409747",
     "status": "completed"
    },
    "tags": []
   },
   "outputs": [],
   "source": [
    "import tensorflow as tf\n",
    "from tensorflow import keras\n",
    "from tensorflow.keras import layers"
   ]
  },
  {
   "cell_type": "code",
   "execution_count": 13,
   "id": "04ee63f7",
   "metadata": {
    "execution": {
     "iopub.execute_input": "2023-07-18T10:12:18.929877Z",
     "iopub.status.busy": "2023-07-18T10:12:18.929034Z",
     "iopub.status.idle": "2023-07-18T10:12:18.936810Z",
     "shell.execute_reply": "2023-07-18T10:12:18.935548Z"
    },
    "papermill": {
     "duration": 0.024548,
     "end_time": "2023-07-18T10:12:18.939410",
     "exception": false,
     "start_time": "2023-07-18T10:12:18.914862",
     "status": "completed"
    },
    "tags": []
   },
   "outputs": [],
   "source": [
    "mean = X_train.mean(axis=0)\n",
    "X_train -= mean\n",
    "std = X_train.std(axis=0)\n",
    "X_train /= std\n",
    "X_val -= mean\n",
    "X_val /= std"
   ]
  },
  {
   "cell_type": "code",
   "execution_count": 14,
   "id": "1602eb89",
   "metadata": {
    "execution": {
     "iopub.execute_input": "2023-07-18T10:12:18.967390Z",
     "iopub.status.busy": "2023-07-18T10:12:18.966334Z",
     "iopub.status.idle": "2023-07-18T10:12:18.972372Z",
     "shell.execute_reply": "2023-07-18T10:12:18.971424Z"
    },
    "papermill": {
     "duration": 0.023043,
     "end_time": "2023-07-18T10:12:18.975068",
     "exception": false,
     "start_time": "2023-07-18T10:12:18.952025",
     "status": "completed"
    },
    "tags": []
   },
   "outputs": [],
   "source": [
    "y_train = np.asarray(y_train).astype('float32')\n",
    "y_val = np.asarray(y_val).astype('float32')"
   ]
  },
  {
   "cell_type": "code",
   "execution_count": 15,
   "id": "1bc98b2d",
   "metadata": {
    "execution": {
     "iopub.execute_input": "2023-07-18T10:12:19.002644Z",
     "iopub.status.busy": "2023-07-18T10:12:19.002006Z",
     "iopub.status.idle": "2023-07-18T10:12:19.154407Z",
     "shell.execute_reply": "2023-07-18T10:12:19.153082Z"
    },
    "papermill": {
     "duration": 0.169207,
     "end_time": "2023-07-18T10:12:19.157202",
     "exception": false,
     "start_time": "2023-07-18T10:12:18.987995",
     "status": "completed"
    },
    "tags": []
   },
   "outputs": [],
   "source": [
    "from keras import regularizers\n",
    "\n",
    "model = keras.Sequential([layers.BatchNormalization(),\n",
    "                          layers.Dense(16, activation='relu'),\n",
    "                          layers.Dropout(0.1),\n",
    "                          layers.Dense(16, activation='relu'),\n",
    "                          layers.Dropout(0.1),\n",
    "                          layers.Dense(1, activation='sigmoid')])"
   ]
  },
  {
   "cell_type": "code",
   "execution_count": 16,
   "id": "cd5cf88b",
   "metadata": {
    "execution": {
     "iopub.execute_input": "2023-07-18T10:12:19.182545Z",
     "iopub.status.busy": "2023-07-18T10:12:19.182026Z",
     "iopub.status.idle": "2023-07-18T10:12:19.219371Z",
     "shell.execute_reply": "2023-07-18T10:12:19.217470Z"
    },
    "papermill": {
     "duration": 0.053531,
     "end_time": "2023-07-18T10:12:19.222275",
     "exception": false,
     "start_time": "2023-07-18T10:12:19.168744",
     "status": "completed"
    },
    "tags": []
   },
   "outputs": [],
   "source": [
    "model = model.compile(optimizer='rmsprop',\n",
    "             loss='binary_crossentropy',\n",
    "             metrics=['accuracy'])"
   ]
  },
  {
   "cell_type": "code",
   "execution_count": 17,
   "id": "58586fd8",
   "metadata": {
    "execution": {
     "iopub.execute_input": "2023-07-18T10:12:19.249547Z",
     "iopub.status.busy": "2023-07-18T10:12:19.248651Z",
     "iopub.status.idle": "2023-07-18T10:13:03.011824Z",
     "shell.execute_reply": "2023-07-18T10:13:03.010170Z"
    },
    "papermill": {
     "duration": 43.78398,
     "end_time": "2023-07-18T10:13:03.017930",
     "exception": false,
     "start_time": "2023-07-18T10:12:19.233950",
     "status": "completed"
    },
    "tags": []
   },
   "outputs": [],
   "source": [
    "from tensorflow.keras.wrappers.scikit_learn import KerasClassifier\n",
    "from tensorflow.keras.models import Sequential\n",
    "from tensorflow.keras.layers import Dense\n",
    "from sklearn.model_selection import RandomizedSearchCV\n",
    "\n",
    "\n",
    "def create_model(optimizer='adam', init='glorot_uniform'):\n",
    "    model = Sequential()\n",
    "    model.add(layers.BatchNormalization())\n",
    "    model.add(Dense(16, kernel_initializer=init, activation='relu'))\n",
    "    model.add(layers.Dropout(0.1))\n",
    "    model.add(Dense(16, kernel_initializer=init, activation='relu'))\n",
    "    model.add(layers.Dropout(0.1))\n",
    "    model.add(Dense(1, kernel_initializer=init, activation='sigmoid'))\n",
    "    model.compile(loss='binary_crossentropy', optimizer=optimizer, metrics=['accuracy'])\n",
    "    return model\n",
    "\n",
    "model = KerasClassifier(build_fn=create_model, verbose=0)\n",
    "\n",
    "optimizer = ['SGD', 'RMSprop', 'Adagrad', 'Adam']\n",
    "init = ['glorot_uniform', 'normal', 'uniform']\n",
    "epochs = [1,5,10,20,30,40,50,100,200]\n",
    "batches = [10, 20, 40, 60, 80, 100,200,500]\n",
    "\n",
    "param_dist = dict(optimizer=optimizer, epochs=epochs, batch_size=batches, init=init)\n",
    "rand = RandomizedSearchCV(estimator=model, param_distributions=param_dist, n_jobs=1, cv=3, n_iter=5)  # n_iter controls the number of different combinations\n",
    "rand_result = rand.fit(X_train, y_train)"
   ]
  },
  {
   "cell_type": "code",
   "execution_count": 18,
   "id": "bec61dec",
   "metadata": {
    "execution": {
     "iopub.execute_input": "2023-07-18T10:13:03.058153Z",
     "iopub.status.busy": "2023-07-18T10:13:03.057661Z",
     "iopub.status.idle": "2023-07-18T10:13:03.070236Z",
     "shell.execute_reply": "2023-07-18T10:13:03.067919Z"
    },
    "papermill": {
     "duration": 0.038262,
     "end_time": "2023-07-18T10:13:03.073501",
     "exception": false,
     "start_time": "2023-07-18T10:13:03.035239",
     "status": "completed"
    },
    "tags": []
   },
   "outputs": [
    {
     "name": "stdout",
     "output_type": "stream",
     "text": [
      "Best: 0.876250 using {'optimizer': 'Adam', 'init': 'glorot_uniform', 'epochs': 50, 'batch_size': 40}\n",
      "0.835637 (0.028019) with: {'optimizer': 'Adagrad', 'init': 'uniform', 'epochs': 20, 'batch_size': 10}\n",
      "0.835649 (0.023119) with: {'optimizer': 'Adagrad', 'init': 'normal', 'epochs': 200, 'batch_size': 500}\n",
      "0.876250 (0.011667) with: {'optimizer': 'Adam', 'init': 'glorot_uniform', 'epochs': 50, 'batch_size': 40}\n",
      "0.835637 (0.028019) with: {'optimizer': 'Adam', 'init': 'normal', 'epochs': 5, 'batch_size': 40}\n",
      "0.522715 (0.275360) with: {'optimizer': 'Adagrad', 'init': 'glorot_uniform', 'epochs': 10, 'batch_size': 80}\n"
     ]
    }
   ],
   "source": [
    "print(\"Best: %f using %s\" % (rand_result.best_score_, rand_result.best_params_))\n",
    "means = rand_result.cv_results_['mean_test_score']\n",
    "stds = rand_result.cv_results_['std_test_score']\n",
    "params = rand_result.cv_results_['params']\n",
    "for mean, stdev, param in zip(means, stds, params):\n",
    "    print(\"%f (%f) with: %r\" % (mean, stdev, param))"
   ]
  },
  {
   "cell_type": "code",
   "execution_count": 19,
   "id": "7f0b3a53",
   "metadata": {
    "execution": {
     "iopub.execute_input": "2023-07-18T10:13:03.101532Z",
     "iopub.status.busy": "2023-07-18T10:13:03.101076Z",
     "iopub.status.idle": "2023-07-18T10:13:03.131805Z",
     "shell.execute_reply": "2023-07-18T10:13:03.130044Z"
    },
    "papermill": {
     "duration": 0.048347,
     "end_time": "2023-07-18T10:13:03.134914",
     "exception": false,
     "start_time": "2023-07-18T10:13:03.086567",
     "status": "completed"
    },
    "tags": []
   },
   "outputs": [],
   "source": [
    "model = keras.Sequential([layers.BatchNormalization(),\n",
    "                          layers.Dense(16, kernel_initializer='normal', activation='relu'),\n",
    "                          layers.Dropout(0.1),\n",
    "                          layers.Dense(16, kernel_initializer='normal', activation='relu'),\n",
    "                          layers.Dropout(0.1),\n",
    "                          layers.Dense(1, activation='sigmoid')])\n",
    "\n",
    "#optimizer = tf.keras.optimizers.RMSprop(learning_rate=0.05)\n",
    "model.compile(optimizer='Adam',\n",
    "             loss='binary_crossentropy',\n",
    "             metrics=['accuracy'])"
   ]
  },
  {
   "cell_type": "code",
   "execution_count": 20,
   "id": "033d1d7e",
   "metadata": {
    "execution": {
     "iopub.execute_input": "2023-07-18T10:13:03.167841Z",
     "iopub.status.busy": "2023-07-18T10:13:03.167334Z",
     "iopub.status.idle": "2023-07-18T10:13:17.296558Z",
     "shell.execute_reply": "2023-07-18T10:13:17.295049Z"
    },
    "papermill": {
     "duration": 14.148745,
     "end_time": "2023-07-18T10:13:17.299826",
     "exception": false,
     "start_time": "2023-07-18T10:13:03.151081",
     "status": "completed"
    },
    "tags": []
   },
   "outputs": [
    {
     "name": "stdout",
     "output_type": "stream",
     "text": [
      "Epoch 1/100\n",
      "25/25 [==============================] - 2s 14ms/step - loss: 0.6441 - accuracy: 0.8053 - val_loss: 0.7346 - val_accuracy: 0.7823\n",
      "Epoch 2/100\n",
      "25/25 [==============================] - 0s 5ms/step - loss: 0.5196 - accuracy: 0.8357 - val_loss: 0.7115 - val_accuracy: 0.7823\n",
      "Epoch 3/100\n",
      "25/25 [==============================] - 0s 5ms/step - loss: 0.3675 - accuracy: 0.8357 - val_loss: 0.6456 - val_accuracy: 0.7823\n",
      "Epoch 4/100\n",
      "25/25 [==============================] - 0s 5ms/step - loss: 0.2984 - accuracy: 0.8398 - val_loss: 0.5959 - val_accuracy: 0.7823\n",
      "Epoch 5/100\n",
      "25/25 [==============================] - 0s 5ms/step - loss: 0.2753 - accuracy: 0.8580 - val_loss: 0.5004 - val_accuracy: 0.7903\n",
      "Epoch 6/100\n",
      "25/25 [==============================] - 0s 5ms/step - loss: 0.2493 - accuracy: 0.8905 - val_loss: 0.4255 - val_accuracy: 0.7984\n",
      "Epoch 7/100\n",
      "25/25 [==============================] - 0s 5ms/step - loss: 0.2356 - accuracy: 0.8925 - val_loss: 0.3930 - val_accuracy: 0.8065\n",
      "Epoch 8/100\n",
      "25/25 [==============================] - 0s 5ms/step - loss: 0.2196 - accuracy: 0.9168 - val_loss: 0.3601 - val_accuracy: 0.8306\n",
      "Epoch 9/100\n",
      "25/25 [==============================] - 0s 6ms/step - loss: 0.2101 - accuracy: 0.9249 - val_loss: 0.3519 - val_accuracy: 0.8387\n",
      "Epoch 10/100\n",
      "25/25 [==============================] - 0s 5ms/step - loss: 0.2019 - accuracy: 0.9290 - val_loss: 0.3245 - val_accuracy: 0.8871\n",
      "Epoch 11/100\n",
      "25/25 [==============================] - 0s 5ms/step - loss: 0.2179 - accuracy: 0.9148 - val_loss: 0.3237 - val_accuracy: 0.8790\n",
      "Epoch 12/100\n",
      "25/25 [==============================] - 0s 4ms/step - loss: 0.1900 - accuracy: 0.9290 - val_loss: 0.3035 - val_accuracy: 0.8871\n",
      "Epoch 13/100\n",
      "25/25 [==============================] - 0s 4ms/step - loss: 0.1603 - accuracy: 0.9513 - val_loss: 0.2896 - val_accuracy: 0.8871\n",
      "Epoch 14/100\n",
      "25/25 [==============================] - 0s 5ms/step - loss: 0.1647 - accuracy: 0.9412 - val_loss: 0.2838 - val_accuracy: 0.8871\n",
      "Epoch 15/100\n",
      "25/25 [==============================] - 0s 5ms/step - loss: 0.1477 - accuracy: 0.9493 - val_loss: 0.2937 - val_accuracy: 0.8952\n",
      "Epoch 16/100\n",
      "25/25 [==============================] - 0s 5ms/step - loss: 0.1472 - accuracy: 0.9493 - val_loss: 0.2794 - val_accuracy: 0.8871\n",
      "Epoch 17/100\n",
      "25/25 [==============================] - 0s 5ms/step - loss: 0.1504 - accuracy: 0.9371 - val_loss: 0.2928 - val_accuracy: 0.8790\n",
      "Epoch 18/100\n",
      "25/25 [==============================] - 0s 5ms/step - loss: 0.1239 - accuracy: 0.9513 - val_loss: 0.3101 - val_accuracy: 0.8790\n",
      "Epoch 19/100\n",
      "25/25 [==============================] - 0s 5ms/step - loss: 0.1265 - accuracy: 0.9574 - val_loss: 0.3537 - val_accuracy: 0.8790\n",
      "Epoch 20/100\n",
      "25/25 [==============================] - 0s 5ms/step - loss: 0.1502 - accuracy: 0.9391 - val_loss: 0.3645 - val_accuracy: 0.8790\n",
      "Epoch 21/100\n",
      "25/25 [==============================] - 0s 5ms/step - loss: 0.1163 - accuracy: 0.9554 - val_loss: 0.3562 - val_accuracy: 0.8871\n",
      "Epoch 22/100\n",
      "25/25 [==============================] - 0s 5ms/step - loss: 0.1107 - accuracy: 0.9615 - val_loss: 0.3504 - val_accuracy: 0.8871\n",
      "Epoch 23/100\n",
      "25/25 [==============================] - 0s 5ms/step - loss: 0.1026 - accuracy: 0.9594 - val_loss: 0.3287 - val_accuracy: 0.8871\n",
      "Epoch 24/100\n",
      "25/25 [==============================] - 0s 5ms/step - loss: 0.1072 - accuracy: 0.9594 - val_loss: 0.4219 - val_accuracy: 0.8790\n",
      "Epoch 25/100\n",
      "25/25 [==============================] - 0s 5ms/step - loss: 0.1189 - accuracy: 0.9533 - val_loss: 0.4061 - val_accuracy: 0.8871\n",
      "Epoch 26/100\n",
      "25/25 [==============================] - 0s 5ms/step - loss: 0.1239 - accuracy: 0.9371 - val_loss: 0.3752 - val_accuracy: 0.8871\n",
      "Epoch 27/100\n",
      "25/25 [==============================] - 0s 5ms/step - loss: 0.1157 - accuracy: 0.9635 - val_loss: 0.3128 - val_accuracy: 0.8871\n",
      "Epoch 28/100\n",
      "25/25 [==============================] - 0s 5ms/step - loss: 0.0792 - accuracy: 0.9716 - val_loss: 0.3263 - val_accuracy: 0.8871\n",
      "Epoch 29/100\n",
      "25/25 [==============================] - 0s 5ms/step - loss: 0.0913 - accuracy: 0.9635 - val_loss: 0.3345 - val_accuracy: 0.8871\n",
      "Epoch 30/100\n",
      "25/25 [==============================] - 0s 5ms/step - loss: 0.1157 - accuracy: 0.9675 - val_loss: 0.2958 - val_accuracy: 0.8871\n",
      "Epoch 31/100\n",
      "25/25 [==============================] - 0s 5ms/step - loss: 0.1089 - accuracy: 0.9513 - val_loss: 0.3562 - val_accuracy: 0.8871\n",
      "Epoch 32/100\n",
      "25/25 [==============================] - 0s 5ms/step - loss: 0.0944 - accuracy: 0.9655 - val_loss: 0.3826 - val_accuracy: 0.8871\n",
      "Epoch 33/100\n",
      "25/25 [==============================] - 0s 5ms/step - loss: 0.0975 - accuracy: 0.9635 - val_loss: 0.4076 - val_accuracy: 0.8871\n",
      "Epoch 34/100\n",
      "25/25 [==============================] - 0s 5ms/step - loss: 0.1157 - accuracy: 0.9533 - val_loss: 0.3559 - val_accuracy: 0.8952\n",
      "Epoch 35/100\n",
      "25/25 [==============================] - 0s 5ms/step - loss: 0.0706 - accuracy: 0.9696 - val_loss: 0.2819 - val_accuracy: 0.9032\n",
      "Epoch 36/100\n",
      "25/25 [==============================] - 0s 5ms/step - loss: 0.0827 - accuracy: 0.9716 - val_loss: 0.2762 - val_accuracy: 0.9113\n",
      "Epoch 37/100\n",
      "25/25 [==============================] - 0s 5ms/step - loss: 0.0646 - accuracy: 0.9838 - val_loss: 0.3146 - val_accuracy: 0.8871\n",
      "Epoch 38/100\n",
      "25/25 [==============================] - 0s 4ms/step - loss: 0.0832 - accuracy: 0.9675 - val_loss: 0.2942 - val_accuracy: 0.9032\n",
      "Epoch 39/100\n",
      "25/25 [==============================] - 0s 4ms/step - loss: 0.0864 - accuracy: 0.9615 - val_loss: 0.2970 - val_accuracy: 0.8952\n",
      "Epoch 40/100\n",
      "25/25 [==============================] - 0s 5ms/step - loss: 0.0978 - accuracy: 0.9716 - val_loss: 0.3583 - val_accuracy: 0.8952\n",
      "Epoch 41/100\n",
      "25/25 [==============================] - 0s 5ms/step - loss: 0.0644 - accuracy: 0.9736 - val_loss: 0.3983 - val_accuracy: 0.8952\n",
      "Epoch 42/100\n",
      "25/25 [==============================] - 0s 6ms/step - loss: 0.0904 - accuracy: 0.9635 - val_loss: 0.4001 - val_accuracy: 0.8871\n",
      "Epoch 43/100\n",
      "25/25 [==============================] - 0s 4ms/step - loss: 0.0825 - accuracy: 0.9675 - val_loss: 0.4053 - val_accuracy: 0.8871\n",
      "Epoch 44/100\n",
      "25/25 [==============================] - 0s 4ms/step - loss: 0.0503 - accuracy: 0.9817 - val_loss: 0.3421 - val_accuracy: 0.8871\n",
      "Epoch 45/100\n",
      "25/25 [==============================] - 0s 4ms/step - loss: 0.1107 - accuracy: 0.9594 - val_loss: 0.3703 - val_accuracy: 0.8871\n",
      "Epoch 46/100\n",
      "25/25 [==============================] - 0s 5ms/step - loss: 0.1048 - accuracy: 0.9473 - val_loss: 0.2960 - val_accuracy: 0.8952\n",
      "Epoch 47/100\n",
      "25/25 [==============================] - 0s 5ms/step - loss: 0.0874 - accuracy: 0.9675 - val_loss: 0.2924 - val_accuracy: 0.8952\n",
      "Epoch 48/100\n",
      "25/25 [==============================] - 0s 4ms/step - loss: 0.0562 - accuracy: 0.9797 - val_loss: 0.3005 - val_accuracy: 0.8952\n",
      "Epoch 49/100\n",
      "25/25 [==============================] - 0s 4ms/step - loss: 0.0640 - accuracy: 0.9838 - val_loss: 0.2987 - val_accuracy: 0.8952\n",
      "Epoch 50/100\n",
      "25/25 [==============================] - 0s 4ms/step - loss: 0.0816 - accuracy: 0.9716 - val_loss: 0.3446 - val_accuracy: 0.8952\n",
      "Epoch 51/100\n",
      "25/25 [==============================] - 0s 4ms/step - loss: 0.0539 - accuracy: 0.9858 - val_loss: 0.4405 - val_accuracy: 0.9032\n",
      "Epoch 52/100\n",
      "25/25 [==============================] - 0s 4ms/step - loss: 0.0538 - accuracy: 0.9817 - val_loss: 0.4586 - val_accuracy: 0.9032\n",
      "Epoch 53/100\n",
      "25/25 [==============================] - 0s 4ms/step - loss: 0.0781 - accuracy: 0.9675 - val_loss: 0.4569 - val_accuracy: 0.8952\n",
      "Epoch 54/100\n",
      "25/25 [==============================] - 0s 5ms/step - loss: 0.0782 - accuracy: 0.9716 - val_loss: 0.4484 - val_accuracy: 0.8952\n",
      "Epoch 55/100\n",
      "25/25 [==============================] - 0s 4ms/step - loss: 0.0594 - accuracy: 0.9757 - val_loss: 0.5480 - val_accuracy: 0.8871\n",
      "Epoch 56/100\n",
      "25/25 [==============================] - 0s 4ms/step - loss: 0.0613 - accuracy: 0.9817 - val_loss: 0.5575 - val_accuracy: 0.8871\n",
      "Epoch 57/100\n",
      "25/25 [==============================] - 0s 5ms/step - loss: 0.0579 - accuracy: 0.9757 - val_loss: 0.6179 - val_accuracy: 0.8871\n",
      "Epoch 58/100\n",
      "25/25 [==============================] - 0s 5ms/step - loss: 0.0490 - accuracy: 0.9797 - val_loss: 0.6508 - val_accuracy: 0.8871\n",
      "Epoch 59/100\n",
      "25/25 [==============================] - 0s 4ms/step - loss: 0.0534 - accuracy: 0.9817 - val_loss: 0.6174 - val_accuracy: 0.8871\n",
      "Epoch 60/100\n",
      "25/25 [==============================] - 0s 4ms/step - loss: 0.0644 - accuracy: 0.9736 - val_loss: 0.9382 - val_accuracy: 0.8871\n",
      "Epoch 61/100\n",
      "25/25 [==============================] - 0s 5ms/step - loss: 0.1017 - accuracy: 0.9594 - val_loss: 1.1100 - val_accuracy: 0.8710\n",
      "Epoch 62/100\n",
      "25/25 [==============================] - 0s 5ms/step - loss: 0.0447 - accuracy: 0.9838 - val_loss: 0.9029 - val_accuracy: 0.8871\n",
      "Epoch 63/100\n",
      "25/25 [==============================] - 0s 5ms/step - loss: 0.0555 - accuracy: 0.9757 - val_loss: 0.9204 - val_accuracy: 0.8871\n",
      "Epoch 64/100\n",
      "25/25 [==============================] - 0s 5ms/step - loss: 0.0470 - accuracy: 0.9858 - val_loss: 0.9988 - val_accuracy: 0.8871\n",
      "Epoch 65/100\n",
      "25/25 [==============================] - 0s 5ms/step - loss: 0.0647 - accuracy: 0.9716 - val_loss: 1.0867 - val_accuracy: 0.8871\n",
      "Epoch 66/100\n",
      "25/25 [==============================] - 0s 5ms/step - loss: 0.0667 - accuracy: 0.9736 - val_loss: 0.9422 - val_accuracy: 0.8871\n",
      "Epoch 67/100\n",
      "25/25 [==============================] - 0s 4ms/step - loss: 0.0785 - accuracy: 0.9696 - val_loss: 1.0327 - val_accuracy: 0.8952\n",
      "Epoch 68/100\n",
      "25/25 [==============================] - 0s 5ms/step - loss: 0.0457 - accuracy: 0.9919 - val_loss: 1.0947 - val_accuracy: 0.8952\n",
      "Epoch 69/100\n",
      "25/25 [==============================] - 0s 5ms/step - loss: 0.0456 - accuracy: 0.9838 - val_loss: 1.0358 - val_accuracy: 0.8952\n",
      "Epoch 70/100\n",
      "25/25 [==============================] - 0s 5ms/step - loss: 0.0477 - accuracy: 0.9817 - val_loss: 0.9489 - val_accuracy: 0.8952\n",
      "Epoch 71/100\n",
      "25/25 [==============================] - 0s 5ms/step - loss: 0.0526 - accuracy: 0.9858 - val_loss: 0.9276 - val_accuracy: 0.8952\n",
      "Epoch 72/100\n",
      "25/25 [==============================] - 0s 4ms/step - loss: 0.0738 - accuracy: 0.9696 - val_loss: 0.8514 - val_accuracy: 0.9032\n",
      "Epoch 73/100\n",
      "25/25 [==============================] - 0s 4ms/step - loss: 0.0492 - accuracy: 0.9838 - val_loss: 0.8631 - val_accuracy: 0.9113\n",
      "Epoch 74/100\n",
      "25/25 [==============================] - 0s 4ms/step - loss: 0.0526 - accuracy: 0.9838 - val_loss: 0.8699 - val_accuracy: 0.9113\n",
      "Epoch 75/100\n",
      "25/25 [==============================] - 0s 5ms/step - loss: 0.0426 - accuracy: 0.9858 - val_loss: 0.8085 - val_accuracy: 0.9113\n",
      "Epoch 76/100\n",
      "25/25 [==============================] - 0s 4ms/step - loss: 0.0518 - accuracy: 0.9777 - val_loss: 0.8371 - val_accuracy: 0.9113\n",
      "Epoch 77/100\n",
      "25/25 [==============================] - 0s 5ms/step - loss: 0.0677 - accuracy: 0.9757 - val_loss: 0.9250 - val_accuracy: 0.8952\n",
      "Epoch 78/100\n",
      "25/25 [==============================] - 0s 5ms/step - loss: 0.0552 - accuracy: 0.9716 - val_loss: 0.9318 - val_accuracy: 0.9032\n",
      "Epoch 79/100\n",
      "25/25 [==============================] - 0s 5ms/step - loss: 0.0499 - accuracy: 0.9838 - val_loss: 0.7771 - val_accuracy: 0.9032\n",
      "Epoch 80/100\n",
      "25/25 [==============================] - 0s 5ms/step - loss: 0.0429 - accuracy: 0.9817 - val_loss: 0.8404 - val_accuracy: 0.8952\n",
      "Epoch 81/100\n",
      "25/25 [==============================] - 0s 5ms/step - loss: 0.0443 - accuracy: 0.9817 - val_loss: 0.9769 - val_accuracy: 0.8952\n",
      "Epoch 82/100\n",
      "25/25 [==============================] - 0s 5ms/step - loss: 0.0510 - accuracy: 0.9838 - val_loss: 1.0302 - val_accuracy: 0.8871\n",
      "Epoch 83/100\n",
      "25/25 [==============================] - 0s 4ms/step - loss: 0.0355 - accuracy: 0.9919 - val_loss: 1.0546 - val_accuracy: 0.8871\n",
      "Epoch 84/100\n",
      "25/25 [==============================] - 0s 5ms/step - loss: 0.0541 - accuracy: 0.9858 - val_loss: 0.9647 - val_accuracy: 0.8871\n",
      "Epoch 85/100\n",
      "25/25 [==============================] - 0s 5ms/step - loss: 0.0496 - accuracy: 0.9757 - val_loss: 1.0316 - val_accuracy: 0.8871\n",
      "Epoch 86/100\n",
      "25/25 [==============================] - 0s 5ms/step - loss: 0.0648 - accuracy: 0.9757 - val_loss: 1.3626 - val_accuracy: 0.8871\n",
      "Epoch 87/100\n",
      "25/25 [==============================] - 0s 6ms/step - loss: 0.0520 - accuracy: 0.9777 - val_loss: 1.4434 - val_accuracy: 0.8871\n",
      "Epoch 88/100\n",
      "25/25 [==============================] - 0s 5ms/step - loss: 0.0450 - accuracy: 0.9838 - val_loss: 1.4646 - val_accuracy: 0.8871\n",
      "Epoch 89/100\n",
      "25/25 [==============================] - 0s 5ms/step - loss: 0.0445 - accuracy: 0.9817 - val_loss: 1.4264 - val_accuracy: 0.8871\n",
      "Epoch 90/100\n",
      "25/25 [==============================] - 0s 5ms/step - loss: 0.0526 - accuracy: 0.9858 - val_loss: 1.4865 - val_accuracy: 0.8952\n",
      "Epoch 91/100\n",
      "25/25 [==============================] - 0s 5ms/step - loss: 0.0673 - accuracy: 0.9757 - val_loss: 1.2376 - val_accuracy: 0.9032\n",
      "Epoch 92/100\n",
      "25/25 [==============================] - 0s 5ms/step - loss: 0.0404 - accuracy: 0.9838 - val_loss: 1.2358 - val_accuracy: 0.8871\n",
      "Epoch 93/100\n",
      "25/25 [==============================] - 0s 5ms/step - loss: 0.0554 - accuracy: 0.9797 - val_loss: 0.6827 - val_accuracy: 0.8952\n",
      "Epoch 94/100\n",
      "25/25 [==============================] - 0s 5ms/step - loss: 0.0286 - accuracy: 0.9919 - val_loss: 0.7036 - val_accuracy: 0.8952\n",
      "Epoch 95/100\n",
      "25/25 [==============================] - 0s 5ms/step - loss: 0.0479 - accuracy: 0.9797 - val_loss: 0.7950 - val_accuracy: 0.8952\n",
      "Epoch 96/100\n",
      "25/25 [==============================] - 0s 5ms/step - loss: 0.0711 - accuracy: 0.9757 - val_loss: 1.3358 - val_accuracy: 0.8871\n",
      "Epoch 97/100\n",
      "25/25 [==============================] - 0s 5ms/step - loss: 0.0438 - accuracy: 0.9919 - val_loss: 1.6580 - val_accuracy: 0.8871\n",
      "Epoch 98/100\n",
      "25/25 [==============================] - 0s 4ms/step - loss: 0.0616 - accuracy: 0.9817 - val_loss: 1.6652 - val_accuracy: 0.8871\n",
      "Epoch 99/100\n",
      "25/25 [==============================] - 0s 5ms/step - loss: 0.0286 - accuracy: 0.9939 - val_loss: 1.6300 - val_accuracy: 0.8871\n",
      "Epoch 100/100\n",
      "25/25 [==============================] - 0s 5ms/step - loss: 0.0496 - accuracy: 0.9838 - val_loss: 1.6109 - val_accuracy: 0.8952\n"
     ]
    }
   ],
   "source": [
    "history = model.fit(X_train, y_train,\n",
    "                   epochs=100, batch_size=20, \n",
    "                    validation_data=(X_val, y_val))"
   ]
  },
  {
   "cell_type": "code",
   "execution_count": 21,
   "id": "e5df11e2",
   "metadata": {
    "execution": {
     "iopub.execute_input": "2023-07-18T10:13:17.401701Z",
     "iopub.status.busy": "2023-07-18T10:13:17.401245Z",
     "iopub.status.idle": "2023-07-18T10:13:17.410729Z",
     "shell.execute_reply": "2023-07-18T10:13:17.409324Z"
    },
    "papermill": {
     "duration": 0.062824,
     "end_time": "2023-07-18T10:13:17.413382",
     "exception": false,
     "start_time": "2023-07-18T10:13:17.350558",
     "status": "completed"
    },
    "tags": []
   },
   "outputs": [
    {
     "data": {
      "text/plain": [
       "dict_keys(['loss', 'accuracy', 'val_loss', 'val_accuracy'])"
      ]
     },
     "execution_count": 21,
     "metadata": {},
     "output_type": "execute_result"
    }
   ],
   "source": [
    "history_dict = history.history\n",
    "history_dict.keys()"
   ]
  },
  {
   "cell_type": "code",
   "execution_count": 22,
   "id": "81d0e95c",
   "metadata": {
    "execution": {
     "iopub.execute_input": "2023-07-18T10:13:17.514116Z",
     "iopub.status.busy": "2023-07-18T10:13:17.513671Z",
     "iopub.status.idle": "2023-07-18T10:13:17.904589Z",
     "shell.execute_reply": "2023-07-18T10:13:17.903349Z"
    },
    "papermill": {
     "duration": 0.443965,
     "end_time": "2023-07-18T10:13:17.907297",
     "exception": false,
     "start_time": "2023-07-18T10:13:17.463332",
     "status": "completed"
    },
    "tags": []
   },
   "outputs": [
    {
     "data": {
      "image/png": "[encoded data removed]",
      "text/plain": [
       "<Figure size 640x480 with 1 Axes>"
      ]
     },
     "metadata": {},
     "output_type": "display_data"
    }
   ],
   "source": [
    "import matplotlib.pyplot as plt\n",
    "\n",
    "loss_values = history_dict['loss']\n",
    "val_loss_values = history_dict['val_loss']\n",
    "epochs = range(1, len(loss_values) + 1)\n",
    "plt.plot(epochs, loss_values, 'bo', label='Training loss')\n",
    "plt.plot(epochs, val_loss_values, 'b', label='Validation loss')\n",
    "plt.title('Training and validation loss')\n",
    "plt.xlabel('Epochs')\n",
    "plt.ylabel('Loss')\n",
    "plt.legend()\n",
    "plt.show()"
   ]
  },
  {
   "cell_type": "code",
   "execution_count": 23,
   "id": "cfae0fed",
   "metadata": {
    "execution": {
     "iopub.execute_input": "2023-07-18T10:13:18.007504Z",
     "iopub.status.busy": "2023-07-18T10:13:18.006247Z",
     "iopub.status.idle": "2023-07-18T10:13:18.357227Z",
     "shell.execute_reply": "2023-07-18T10:13:18.356232Z"
    },
    "papermill": {
     "duration": 0.403284,
     "end_time": "2023-07-18T10:13:18.359645",
     "exception": false,
     "start_time": "2023-07-18T10:13:17.956361",
     "status": "completed"
    },
    "tags": []
   },
   "outputs": [
    {
     "data": {
      "image/png": "[encoded data removed]",
      "text/plain": [
       "<Figure size 640x480 with 1 Axes>"
      ]
     },
     "metadata": {},
     "output_type": "display_data"
    }
   ],
   "source": [
    "plt.clf()\n",
    "acc = history_dict['accuracy']\n",
    "val_acc = history_dict['val_accuracy']\n",
    "plt.plot(epochs, acc, 'bo', label='Training acc')\n",
    "plt.plot(epochs, val_acc, 'b', label='Validation acc')\n",
    "plt.title('Training and validation accuarcy')\n",
    "plt.xlabel('Epochs')\n",
    "plt.ylabel('Accuracy')\n",
    "plt.legend()\n",
    "plt.show()"
   ]
  },
  {
   "cell_type": "code",
   "execution_count": 24,
   "id": "0686bfb1",
   "metadata": {
    "execution": {
     "iopub.execute_input": "2023-07-18T10:13:18.466293Z",
     "iopub.status.busy": "2023-07-18T10:13:18.464250Z",
     "iopub.status.idle": "2023-07-18T10:13:22.063058Z",
     "shell.execute_reply": "2023-07-18T10:13:22.061390Z"
    },
    "papermill": {
     "duration": 3.654137,
     "end_time": "2023-07-18T10:13:22.065847",
     "exception": false,
     "start_time": "2023-07-18T10:13:18.411710",
     "status": "completed"
    },
    "tags": []
   },
   "outputs": [
    {
     "name": "stdout",
     "output_type": "stream",
     "text": [
      "Epoch 1/15\n",
      "25/25 [==============================] - 2s 13ms/step - loss: 0.6563 - accuracy: 0.7870 - val_loss: 0.7076 - val_accuracy: 0.7823\n",
      "Epoch 2/15\n",
      "25/25 [==============================] - 0s 5ms/step - loss: 0.5471 - accuracy: 0.8357 - val_loss: 0.7397 - val_accuracy: 0.7823\n",
      "Epoch 3/15\n",
      "25/25 [==============================] - 0s 5ms/step - loss: 0.4095 - accuracy: 0.8357 - val_loss: 0.7358 - val_accuracy: 0.7823\n",
      "Epoch 4/15\n",
      "25/25 [==============================] - 0s 5ms/step - loss: 0.3142 - accuracy: 0.8377 - val_loss: 0.7345 - val_accuracy: 0.7823\n",
      "Epoch 5/15\n",
      "25/25 [==============================] - 0s 5ms/step - loss: 0.2977 - accuracy: 0.8540 - val_loss: 0.6826 - val_accuracy: 0.7823\n",
      "Epoch 6/15\n",
      "25/25 [==============================] - 0s 5ms/step - loss: 0.2628 - accuracy: 0.8783 - val_loss: 0.6127 - val_accuracy: 0.8065\n",
      "Epoch 7/15\n",
      "25/25 [==============================] - 0s 5ms/step - loss: 0.2292 - accuracy: 0.8925 - val_loss: 0.5335 - val_accuracy: 0.8226\n",
      "Epoch 8/15\n",
      "25/25 [==============================] - 0s 5ms/step - loss: 0.2275 - accuracy: 0.9047 - val_loss: 0.4878 - val_accuracy: 0.8468\n",
      "Epoch 9/15\n",
      "25/25 [==============================] - 0s 5ms/step - loss: 0.2306 - accuracy: 0.9067 - val_loss: 0.4436 - val_accuracy: 0.8629\n",
      "Epoch 10/15\n",
      "25/25 [==============================] - 0s 5ms/step - loss: 0.2036 - accuracy: 0.9209 - val_loss: 0.4200 - val_accuracy: 0.8710\n",
      "Epoch 11/15\n",
      "25/25 [==============================] - 0s 5ms/step - loss: 0.1874 - accuracy: 0.9229 - val_loss: 0.4077 - val_accuracy: 0.8629\n",
      "Epoch 12/15\n",
      "25/25 [==============================] - 0s 5ms/step - loss: 0.1806 - accuracy: 0.9290 - val_loss: 0.4065 - val_accuracy: 0.8548\n",
      "Epoch 13/15\n",
      "25/25 [==============================] - 0s 5ms/step - loss: 0.1711 - accuracy: 0.9391 - val_loss: 0.3376 - val_accuracy: 0.8710\n",
      "Epoch 14/15\n",
      "25/25 [==============================] - 0s 5ms/step - loss: 0.1815 - accuracy: 0.9189 - val_loss: 0.3465 - val_accuracy: 0.8629\n",
      "Epoch 15/15\n",
      "25/25 [==============================] - 0s 5ms/step - loss: 0.1510 - accuracy: 0.9493 - val_loss: 0.3346 - val_accuracy: 0.8629\n"
     ]
    },
    {
     "data": {
      "text/plain": [
       "<keras.callbacks.History at 0x7df05c26e620>"
      ]
     },
     "execution_count": 24,
     "metadata": {},
     "output_type": "execute_result"
    }
   ],
   "source": [
    "model = keras.Sequential([layers.BatchNormalization(),\n",
    "                          layers.Dense(16, kernel_initializer='normal', activation='relu'),\n",
    "                          layers.Dropout(0.1),\n",
    "                          layers.Dense(16, kernel_initializer='normal', activation='relu'),\n",
    "                          layers.Dropout(0.1),\n",
    "                          layers.Dense(1, activation='sigmoid')])\n",
    "\n",
    "#optimizer = tf.keras.optimizers.RMSprop(learning_rate=0.05)\n",
    "model.compile(optimizer='Adam',\n",
    "             loss='binary_crossentropy',\n",
    "             metrics=['accuracy'])\n",
    "\n",
    "model.fit(X_train, y_train,\n",
    "                   epochs=15, batch_size=20, \n",
    "                    validation_data=(X_val, y_val))"
   ]
  },
  {
   "cell_type": "code",
   "execution_count": 25,
   "id": "7d7c622e",
   "metadata": {
    "execution": {
     "iopub.execute_input": "2023-07-18T10:13:22.184064Z",
     "iopub.status.busy": "2023-07-18T10:13:22.183628Z",
     "iopub.status.idle": "2023-07-18T10:13:22.295363Z",
     "shell.execute_reply": "2023-07-18T10:13:22.293640Z"
    },
    "papermill": {
     "duration": 0.175594,
     "end_time": "2023-07-18T10:13:22.299081",
     "exception": false,
     "start_time": "2023-07-18T10:13:22.123487",
     "status": "completed"
    },
    "tags": []
   },
   "outputs": [
    {
     "name": "stdout",
     "output_type": "stream",
     "text": [
      "4/4 [==============================] - 0s 3ms/step - loss: 0.3346 - accuracy: 0.8629\n"
     ]
    },
    {
     "data": {
      "text/plain": [
       "[0.3345922529697418, 0.8629032373428345]"
      ]
     },
     "execution_count": 25,
     "metadata": {},
     "output_type": "execute_result"
    }
   ],
   "source": [
    "results = model.evaluate(X_val,y_val)\n",
    "results"
   ]
  },
  {
   "cell_type": "markdown",
   "id": "f673562e",
   "metadata": {
    "papermill": {
     "duration": 0.060261,
     "end_time": "2023-07-18T10:13:22.424584",
     "exception": false,
     "start_time": "2023-07-18T10:13:22.364323",
     "status": "completed"
    },
    "tags": []
   },
   "source": [
    "Drop out(0.25) - 0.5952, 0.8548\n",
    "l2 - 0.8328,0.8468\n",
    "l1 - 0.6231, 0.8226\n",
    "normal - 0.4730, 0.8306\n",
    "Drop out(0.1) - 0.2562, 0.8952\n",
    "batch with drop out - 0.3252, 0.8629"
   ]
  },
  {
   "cell_type": "code",
   "execution_count": 26,
   "id": "4836c2a2",
   "metadata": {
    "execution": {
     "iopub.execute_input": "2023-07-18T10:13:22.544123Z",
     "iopub.status.busy": "2023-07-18T10:13:22.543630Z",
     "iopub.status.idle": "2023-07-18T10:13:22.800653Z",
     "shell.execute_reply": "2023-07-18T10:13:22.799195Z"
    },
    "papermill": {
     "duration": 0.321046,
     "end_time": "2023-07-18T10:13:22.803378",
     "exception": false,
     "start_time": "2023-07-18T10:13:22.482332",
     "status": "completed"
    },
    "tags": []
   },
   "outputs": [
    {
     "name": "stdout",
     "output_type": "stream",
     "text": [
      "4/4 [==============================] - 0s 3ms/step\n",
      "              precision    recall  f1-score   support\n",
      "\n",
      "         0.0       0.86      0.99      0.92        97\n",
      "         1.0       0.92      0.41      0.56        27\n",
      "\n",
      "    accuracy                           0.86       124\n",
      "   macro avg       0.89      0.70      0.74       124\n",
      "weighted avg       0.87      0.86      0.84       124\n",
      "\n"
     ]
    }
   ],
   "source": [
    "val_pred = model.predict(X_val)\n",
    "val_pred = val_pred.round()\n",
    "from sklearn.metrics import classification_report\n",
    "print(classification_report(y_val, val_pred))"
   ]
  },
  {
   "cell_type": "code",
   "execution_count": 27,
   "id": "2a26611b",
   "metadata": {
    "execution": {
     "iopub.execute_input": "2023-07-18T10:13:22.924513Z",
     "iopub.status.busy": "2023-07-18T10:13:22.924078Z",
     "iopub.status.idle": "2023-07-18T10:13:23.033715Z",
     "shell.execute_reply": "2023-07-18T10:13:23.032404Z"
    },
    "papermill": {
     "duration": 0.170715,
     "end_time": "2023-07-18T10:13:23.036649",
     "exception": false,
     "start_time": "2023-07-18T10:13:22.865934",
     "status": "completed"
    },
    "tags": []
   },
   "outputs": [
    {
     "name": "stdout",
     "output_type": "stream",
     "text": [
      "1/1 [==============================] - 0s 28ms/step\n"
     ]
    }
   ],
   "source": [
    "final_predictions = model.predict(test)\n",
    "final_predictions = final_predictions.round()"
   ]
  },
  {
   "cell_type": "code",
   "execution_count": 28,
   "id": "ac039e7b",
   "metadata": {
    "execution": {
     "iopub.execute_input": "2023-07-18T10:13:23.156629Z",
     "iopub.status.busy": "2023-07-18T10:13:23.156112Z",
     "iopub.status.idle": "2023-07-18T10:13:23.161829Z",
     "shell.execute_reply": "2023-07-18T10:13:23.160528Z"
    },
    "papermill": {
     "duration": 0.069387,
     "end_time": "2023-07-18T10:13:23.164616",
     "exception": false,
     "start_time": "2023-07-18T10:13:23.095229",
     "status": "completed"
    },
    "tags": []
   },
   "outputs": [],
   "source": [
    "class_0_probabilities = 1 - final_predictions\n",
    "class_1_probabilities = final_predictions"
   ]
  },
  {
   "cell_type": "code",
   "execution_count": 29,
   "id": "28542ebb",
   "metadata": {
    "execution": {
     "iopub.execute_input": "2023-07-18T10:13:23.281872Z",
     "iopub.status.busy": "2023-07-18T10:13:23.281419Z",
     "iopub.status.idle": "2023-07-18T10:13:23.291090Z",
     "shell.execute_reply": "2023-07-18T10:13:23.289804Z"
    },
    "papermill": {
     "duration": 0.072224,
     "end_time": "2023-07-18T10:13:23.293562",
     "exception": false,
     "start_time": "2023-07-18T10:13:23.221338",
     "status": "completed"
    },
    "tags": []
   },
   "outputs": [],
   "source": [
    "my_submission = raw.copy()\n",
    "my_submission = my_submission[['Id']]\n",
    "my_submission[['class_0']] = 1-final_predictions\n",
    "my_submission[['class_1']] = final_predictions"
   ]
  },
  {
   "cell_type": "code",
   "execution_count": 30,
   "id": "30247b72",
   "metadata": {
    "execution": {
     "iopub.execute_input": "2023-07-18T10:13:23.409140Z",
     "iopub.status.busy": "2023-07-18T10:13:23.408673Z",
     "iopub.status.idle": "2023-07-18T10:13:23.425430Z",
     "shell.execute_reply": "2023-07-18T10:13:23.424231Z"
    },
    "papermill": {
     "duration": 0.079966,
     "end_time": "2023-07-18T10:13:23.428529",
     "exception": false,
     "start_time": "2023-07-18T10:13:23.348563",
     "status": "completed"
    },
    "tags": []
   },
   "outputs": [],
   "source": [
    "my_submission.to_csv('submission.csv', index=False)"
   ]
  },
  {
   "cell_type": "code",
   "execution_count": null,
   "id": "eb206e4f",
   "metadata": {
    "papermill": {
     "duration": 0.056853,
     "end_time": "2023-07-18T10:13:23.545511",
     "exception": false,
     "start_time": "2023-07-18T10:13:23.488658",
     "status": "completed"
    },
    "tags": []
   },
   "outputs": [],
   "source": []
  }
 ],
 "metadata": {
  "kernelspec": {
   "display_name": "Python 3",
   "language": "python",
   "name": "python3"
  },
  "language_info": {
   "codemirror_mode": {
    "name": "ipython",
    "version": 3
   },
   "file_extension": ".py",
   "mimetype": "text/x-python",
   "name": "python",
   "nbconvert_exporter": "python",
   "pygments_lexer": "ipython3",
   "version": "3.10.10"
  },
  "papermill": {
   "default_parameters": {},
   "duration": 99.804375,
   "end_time": "2023-07-18T10:13:27.223675",
   "environment_variables": {},
   "exception": null,
   "input_path": "__notebook__.ipynb",
   "output_path": "__notebook__.ipynb",
   "parameters": {},
   "start_time": "2023-07-18T10:11:47.419300",
   "version": "2.4.0"
  }
 },
 "nbformat": 4,
 "nbformat_minor": 5
}
